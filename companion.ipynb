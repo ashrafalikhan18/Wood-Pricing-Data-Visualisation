{
 "cells": [
  {
   "cell_type": "markdown",
   "metadata": {},
   "source": [
    "# Portfolio Task 2 \n",
    "    companion note book"
   ]
  },
  {
   "cell_type": "markdown",
   "metadata": {},
   "source": [
    "### NAME : ASHRAF ALI KHAN PATAN"
   ]
  },
  {
   "cell_type": "markdown",
   "metadata": {},
   "source": [
    "### Data Set Info :\n",
    "- The data set is downloaded from Kaggle .\n",
    "- This data set shows various key attributes and their significance.\n",
    "- Link for Data Set https://www.kaggle.com/datasets/swarajkhan/wood-prices-dataset\n",
    "- This data set was uploaded in the year 2023."
   ]
  },
  {
   "cell_type": "markdown",
   "metadata": {},
   "source": [
    "- Importing Packages"
   ]
  },
  {
   "cell_type": "code",
   "execution_count": 1,
   "metadata": {},
   "outputs": [],
   "source": [
    "import pandas as pd\n",
    "import plotly.express as px\n",
    "import plotly.graph_objects as go\n",
    "from plotly.subplots import make_subplots\n",
    "import geopandas as gpd\n",
    "import plotly.io as pio\n",
    "from shapely.geometry import Point"
   ]
  },
  {
   "cell_type": "markdown",
   "metadata": {},
   "source": [
    "- Loading Data set "
   ]
  },
  {
   "cell_type": "code",
   "execution_count": 2,
   "metadata": {},
   "outputs": [],
   "source": [
    "wood_df = pd.read_csv('wood_prices_dataset.csv')"
   ]
  },
  {
   "cell_type": "markdown",
   "metadata": {},
   "source": [
    "- Displaying first 5 rows of the data set"
   ]
  },
  {
   "cell_type": "code",
   "execution_count": 3,
   "metadata": {},
   "outputs": [
    {
     "data": {
      "text/html": [
       "<div>\n",
       "<style scoped>\n",
       "    .dataframe tbody tr th:only-of-type {\n",
       "        vertical-align: middle;\n",
       "    }\n",
       "\n",
       "    .dataframe tbody tr th {\n",
       "        vertical-align: top;\n",
       "    }\n",
       "\n",
       "    .dataframe thead th {\n",
       "        text-align: right;\n",
       "    }\n",
       "</style>\n",
       "<table border=\"1\" class=\"dataframe\">\n",
       "  <thead>\n",
       "    <tr style=\"text-align: right;\">\n",
       "      <th></th>\n",
       "      <th>Wood Type</th>\n",
       "      <th>Country</th>\n",
       "      <th>Price (USD)</th>\n",
       "      <th>Supply Source</th>\n",
       "      <th>Quality Rating</th>\n",
       "      <th>Popularity</th>\n",
       "      <th>Demand Level</th>\n",
       "      <th>Availability</th>\n",
       "    </tr>\n",
       "  </thead>\n",
       "  <tbody>\n",
       "    <tr>\n",
       "      <th>0</th>\n",
       "      <td>Maple</td>\n",
       "      <td>China</td>\n",
       "      <td>166.59</td>\n",
       "      <td>Imported</td>\n",
       "      <td>Medium</td>\n",
       "      <td>3</td>\n",
       "      <td>Medium</td>\n",
       "      <td>Moderate</td>\n",
       "    </tr>\n",
       "    <tr>\n",
       "      <th>1</th>\n",
       "      <td>Rosewood</td>\n",
       "      <td>South Africa</td>\n",
       "      <td>144.71</td>\n",
       "      <td>Local</td>\n",
       "      <td>Low</td>\n",
       "      <td>6</td>\n",
       "      <td>Medium</td>\n",
       "      <td>Moderate</td>\n",
       "    </tr>\n",
       "    <tr>\n",
       "      <th>2</th>\n",
       "      <td>Rosewood</td>\n",
       "      <td>South Africa</td>\n",
       "      <td>216.92</td>\n",
       "      <td>Local</td>\n",
       "      <td>Medium</td>\n",
       "      <td>2</td>\n",
       "      <td>Medium</td>\n",
       "      <td>Abundant</td>\n",
       "    </tr>\n",
       "    <tr>\n",
       "      <th>3</th>\n",
       "      <td>Oak</td>\n",
       "      <td>Russia</td>\n",
       "      <td>130.13</td>\n",
       "      <td>Imported</td>\n",
       "      <td>Medium</td>\n",
       "      <td>5</td>\n",
       "      <td>Low</td>\n",
       "      <td>Abundant</td>\n",
       "    </tr>\n",
       "    <tr>\n",
       "      <th>4</th>\n",
       "      <td>Bamboo</td>\n",
       "      <td>Australia</td>\n",
       "      <td>114.66</td>\n",
       "      <td>Local</td>\n",
       "      <td>Medium</td>\n",
       "      <td>8</td>\n",
       "      <td>Low</td>\n",
       "      <td>Abundant</td>\n",
       "    </tr>\n",
       "  </tbody>\n",
       "</table>\n",
       "</div>"
      ],
      "text/plain": [
       "  Wood Type       Country  Price (USD) Supply Source Quality Rating  \\\n",
       "0     Maple         China       166.59      Imported         Medium   \n",
       "1  Rosewood  South Africa       144.71         Local            Low   \n",
       "2  Rosewood  South Africa       216.92         Local         Medium   \n",
       "3       Oak        Russia       130.13      Imported         Medium   \n",
       "4    Bamboo     Australia       114.66         Local         Medium   \n",
       "\n",
       "   Popularity Demand Level Availability  \n",
       "0           3       Medium     Moderate  \n",
       "1           6       Medium     Moderate  \n",
       "2           2       Medium     Abundant  \n",
       "3           5          Low     Abundant  \n",
       "4           8          Low     Abundant  "
      ]
     },
     "execution_count": 3,
     "metadata": {},
     "output_type": "execute_result"
    }
   ],
   "source": [
    "wood_df.head()"
   ]
  },
  {
   "cell_type": "markdown",
   "metadata": {},
   "source": [
    "- Displaying last 5 rows of the data set"
   ]
  },
  {
   "cell_type": "code",
   "execution_count": 14,
   "metadata": {},
   "outputs": [
    {
     "data": {
      "text/html": [
       "<div>\n",
       "<style scoped>\n",
       "    .dataframe tbody tr th:only-of-type {\n",
       "        vertical-align: middle;\n",
       "    }\n",
       "\n",
       "    .dataframe tbody tr th {\n",
       "        vertical-align: top;\n",
       "    }\n",
       "\n",
       "    .dataframe thead th {\n",
       "        text-align: right;\n",
       "    }\n",
       "</style>\n",
       "<table border=\"1\" class=\"dataframe\">\n",
       "  <thead>\n",
       "    <tr style=\"text-align: right;\">\n",
       "      <th></th>\n",
       "      <th>Wood Type</th>\n",
       "      <th>Country</th>\n",
       "      <th>Price (USD)</th>\n",
       "      <th>Supply Source</th>\n",
       "      <th>Quality Rating</th>\n",
       "      <th>Popularity</th>\n",
       "      <th>Demand Level</th>\n",
       "      <th>Availability</th>\n",
       "    </tr>\n",
       "  </thead>\n",
       "  <tbody>\n",
       "    <tr>\n",
       "      <th>995</th>\n",
       "      <td>Rosewood</td>\n",
       "      <td>Indonesia</td>\n",
       "      <td>151.81</td>\n",
       "      <td>Local</td>\n",
       "      <td>Medium</td>\n",
       "      <td>2</td>\n",
       "      <td>Medium</td>\n",
       "      <td>Limited</td>\n",
       "    </tr>\n",
       "    <tr>\n",
       "      <th>996</th>\n",
       "      <td>Pine</td>\n",
       "      <td>Germany</td>\n",
       "      <td>230.97</td>\n",
       "      <td>Imported</td>\n",
       "      <td>Low</td>\n",
       "      <td>4</td>\n",
       "      <td>Low</td>\n",
       "      <td>Abundant</td>\n",
       "    </tr>\n",
       "    <tr>\n",
       "      <th>997</th>\n",
       "      <td>Maple</td>\n",
       "      <td>Indonesia</td>\n",
       "      <td>200.87</td>\n",
       "      <td>Local</td>\n",
       "      <td>Low</td>\n",
       "      <td>4</td>\n",
       "      <td>High</td>\n",
       "      <td>Limited</td>\n",
       "    </tr>\n",
       "    <tr>\n",
       "      <th>998</th>\n",
       "      <td>Maple</td>\n",
       "      <td>South Africa</td>\n",
       "      <td>227.75</td>\n",
       "      <td>Imported</td>\n",
       "      <td>Low</td>\n",
       "      <td>8</td>\n",
       "      <td>High</td>\n",
       "      <td>Moderate</td>\n",
       "    </tr>\n",
       "    <tr>\n",
       "      <th>999</th>\n",
       "      <td>Mahogany</td>\n",
       "      <td>Indonesia</td>\n",
       "      <td>122.71</td>\n",
       "      <td>Imported</td>\n",
       "      <td>Low</td>\n",
       "      <td>5</td>\n",
       "      <td>Low</td>\n",
       "      <td>Limited</td>\n",
       "    </tr>\n",
       "  </tbody>\n",
       "</table>\n",
       "</div>"
      ],
      "text/plain": [
       "    Wood Type       Country  Price (USD) Supply Source Quality Rating  \\\n",
       "995  Rosewood     Indonesia       151.81         Local         Medium   \n",
       "996      Pine       Germany       230.97      Imported            Low   \n",
       "997     Maple     Indonesia       200.87         Local            Low   \n",
       "998     Maple  South Africa       227.75      Imported            Low   \n",
       "999  Mahogany     Indonesia       122.71      Imported            Low   \n",
       "\n",
       "     Popularity Demand Level Availability  \n",
       "995           2       Medium      Limited  \n",
       "996           4          Low     Abundant  \n",
       "997           4         High      Limited  \n",
       "998           8         High     Moderate  \n",
       "999           5          Low      Limited  "
      ]
     },
     "execution_count": 14,
     "metadata": {},
     "output_type": "execute_result"
    }
   ],
   "source": [
    "wood_df.tail()"
   ]
  },
  {
   "cell_type": "code",
   "execution_count": 12,
   "metadata": {},
   "outputs": [
    {
     "data": {
      "text/plain": [
       "Index(['Wood Type', 'Country', 'Price (USD)', 'Supply Source',\n",
       "       'Quality Rating', 'Popularity', 'Demand Level', 'Availability'],\n",
       "      dtype='object')"
      ]
     },
     "execution_count": 12,
     "metadata": {},
     "output_type": "execute_result"
    }
   ],
   "source": [
    "wood_df.columns"
   ]
  },
  {
   "cell_type": "markdown",
   "metadata": {},
   "source": [
    "Describing features in the Data Set :\n",
    "\n",
    "Wood Type: types of wood possess characteristics and applications. For example Maple is recognized for its strength and longevity making it a preferred choice, for flooring and furniture whereas Bamboo is valued for its nature and rapid growth leading to its popularity in friendly goods.\n",
    "\n",
    "Country: The origin country significantly influences the cost and quality of the wood. Factors such as forestry laws, labor expenses and the presence of established supply chains can impact these attributes. For instance countries like Brazil and Indonesia are known for their forest reserves while nations like Japan may prioritize importing high quality wood due to local resources.\n",
    "\n",
    "Price in USD; Having a grasp of the woods price in USD facilitates comparisons across markets. Enables informed purchasing decisions. Prices can vary based on factors such as wood type, quality, sourcing location and market demand.\n",
    "\n",
    "Supply Source: Whether the wood is sourced locally or imported can affect its cost and availability. Imported wood may incur expenses related to shipping, tariffs and import taxes whereas sourced wood could be subject to supply constraints or regulatory measures.\n",
    "\n",
    "Quality Rating: The grade of wood impacts its suitability, for uses.\n",
    "Good quality timber is usually pricier. Favored for luxury items while lower quality timber could be used in mass produced goods.\n",
    "\n",
    "Popularity: The popularity of a type of wood can affect its demand and cost. Highly sought after wood varieties may command prices and demand reflecting consumer preferences and market trends.\n",
    "\n",
    "Demand Level: Knowing the level of demand helps in understanding market dynamics. Timber, with demand may face price hikes and supply shortages whereas less, in demand timber may be easily accessible and affordable.\n",
    "\n",
    "Availability: The availability of timber influences market stability and pricing. Abundant types of wood generally have prices while scarce varieties may see significant price fluctuations.\n"
   ]
  },
  {
   "cell_type": "markdown",
   "metadata": {},
   "source": [
    "### Data Pre-Processing"
   ]
  },
  {
   "cell_type": "markdown",
   "metadata": {},
   "source": [
    "1. Type and Shape of the Data Set "
   ]
  },
  {
   "cell_type": "code",
   "execution_count": 6,
   "metadata": {},
   "outputs": [
    {
     "data": {
      "text/plain": [
       "(1000, 8)"
      ]
     },
     "execution_count": 6,
     "metadata": {},
     "output_type": "execute_result"
    }
   ],
   "source": [
    "print(f'Dataset type: {type(wood_df)}')         \n",
    "print(f'Dataset shape: {wood_df.shape}')   "
   ]
  },
  {
   "cell_type": "markdown",
   "metadata": {},
   "source": [
    "- Data Set contains 1000 rows and 8 columns"
   ]
  },
  {
   "cell_type": "markdown",
   "metadata": {},
   "source": [
    "2. Information about the data set "
   ]
  },
  {
   "cell_type": "code",
   "execution_count": 4,
   "metadata": {},
   "outputs": [
    {
     "name": "stdout",
     "output_type": "stream",
     "text": [
      "<class 'pandas.core.frame.DataFrame'>\n",
      "RangeIndex: 1000 entries, 0 to 999\n",
      "Data columns (total 8 columns):\n",
      " #   Column          Non-Null Count  Dtype  \n",
      "---  ------          --------------  -----  \n",
      " 0   Wood Type       1000 non-null   object \n",
      " 1   Country         1000 non-null   object \n",
      " 2   Price (USD)     1000 non-null   float64\n",
      " 3   Supply Source   1000 non-null   object \n",
      " 4   Quality Rating  1000 non-null   object \n",
      " 5   Popularity      1000 non-null   int64  \n",
      " 6   Demand Level    1000 non-null   object \n",
      " 7   Availability    1000 non-null   object \n",
      "dtypes: float64(1), int64(1), object(6)\n",
      "memory usage: 62.6+ KB\n"
     ]
    }
   ],
   "source": [
    "wood_df.info()"
   ]
  },
  {
   "cell_type": "markdown",
   "metadata": {},
   "source": [
    "- This dataset contains 1,000 entries and 8 columns related to wood types. Each column represents a different attribute:\n",
    "    - Wood Type: The type or species of wood.\n",
    "    - Country: The country where the wood is from.\n",
    "    - Price (USD): The price of the wood in US dollars.\n",
    "    - Supply Source: Where the wood is sourced from.\n",
    "    - Quality Rating: The quality rating of the wood (e.g., high, medium, low).\n",
    "    - Popularity: A numerical value indicating how popular the wood is.\n",
    "    - Demand Level: The level of demand for the wood (e.g., high, medium, low).\n",
    "    - Availability: How readily available the wood is (e.g., abundant, scarce).\n",
    "- There are a variety of data types: most columns are categorical, while the price is a float type, and popularity is a integer type . \n",
    "- The total memory usage of this dataset is about 62.6 kilobytes."
   ]
  },
  {
   "cell_type": "markdown",
   "metadata": {},
   "source": [
    "3. Describe Method :"
   ]
  },
  {
   "cell_type": "code",
   "execution_count": 7,
   "metadata": {},
   "outputs": [
    {
     "data": {
      "text/html": [
       "<div>\n",
       "<style scoped>\n",
       "    .dataframe tbody tr th:only-of-type {\n",
       "        vertical-align: middle;\n",
       "    }\n",
       "\n",
       "    .dataframe tbody tr th {\n",
       "        vertical-align: top;\n",
       "    }\n",
       "\n",
       "    .dataframe thead th {\n",
       "        text-align: right;\n",
       "    }\n",
       "</style>\n",
       "<table border=\"1\" class=\"dataframe\">\n",
       "  <thead>\n",
       "    <tr style=\"text-align: right;\">\n",
       "      <th></th>\n",
       "      <th>Price (USD)</th>\n",
       "      <th>Popularity</th>\n",
       "    </tr>\n",
       "  </thead>\n",
       "  <tbody>\n",
       "    <tr>\n",
       "      <th>count</th>\n",
       "      <td>1000.000000</td>\n",
       "      <td>1000.000000</td>\n",
       "    </tr>\n",
       "    <tr>\n",
       "      <th>mean</th>\n",
       "      <td>165.745780</td>\n",
       "      <td>5.526000</td>\n",
       "    </tr>\n",
       "    <tr>\n",
       "      <th>std</th>\n",
       "      <td>48.427786</td>\n",
       "      <td>2.859983</td>\n",
       "    </tr>\n",
       "    <tr>\n",
       "      <th>min</th>\n",
       "      <td>80.230000</td>\n",
       "      <td>1.000000</td>\n",
       "    </tr>\n",
       "    <tr>\n",
       "      <th>25%</th>\n",
       "      <td>123.485000</td>\n",
       "      <td>3.000000</td>\n",
       "    </tr>\n",
       "    <tr>\n",
       "      <th>50%</th>\n",
       "      <td>165.265000</td>\n",
       "      <td>5.500000</td>\n",
       "    </tr>\n",
       "    <tr>\n",
       "      <th>75%</th>\n",
       "      <td>207.977500</td>\n",
       "      <td>8.000000</td>\n",
       "    </tr>\n",
       "    <tr>\n",
       "      <th>max</th>\n",
       "      <td>249.930000</td>\n",
       "      <td>10.000000</td>\n",
       "    </tr>\n",
       "  </tbody>\n",
       "</table>\n",
       "</div>"
      ],
      "text/plain": [
       "       Price (USD)   Popularity\n",
       "count  1000.000000  1000.000000\n",
       "mean    165.745780     5.526000\n",
       "std      48.427786     2.859983\n",
       "min      80.230000     1.000000\n",
       "25%     123.485000     3.000000\n",
       "50%     165.265000     5.500000\n",
       "75%     207.977500     8.000000\n",
       "max     249.930000    10.000000"
      ]
     },
     "execution_count": 7,
     "metadata": {},
     "output_type": "execute_result"
    }
   ],
   "source": [
    "wood_df.describe()"
   ]
  },
  {
   "cell_type": "markdown",
   "metadata": {},
   "source": [
    "- The describe() method is used to perfom statistical calculations such as mean, standard deviation and min-max values"
   ]
  },
  {
   "cell_type": "markdown",
   "metadata": {},
   "source": [
    "4. Checking Null Values"
   ]
  },
  {
   "cell_type": "code",
   "execution_count": 13,
   "metadata": {},
   "outputs": [
    {
     "name": "stdout",
     "output_type": "stream",
     "text": [
      "Wood Type         0\n",
      "Country           0\n",
      "Price (USD)       0\n",
      "Supply Source     0\n",
      "Quality Rating    0\n",
      "Popularity        0\n",
      "Demand Level      0\n",
      "Availability      0\n",
      "dtype: int64\n"
     ]
    }
   ],
   "source": [
    "null_counts = wood_df.isnull().sum()\n",
    "print(null_counts)"
   ]
  },
  {
   "cell_type": "markdown",
   "metadata": {},
   "source": [
    "- The dataset is complete with no missing values"
   ]
  },
  {
   "cell_type": "markdown",
   "metadata": {},
   "source": [
    "## Use of AI "
   ]
  },
  {
   "cell_type": "markdown",
   "metadata": {},
   "source": [
    "- I have used perpelxity.ai for handling the errors.\n",
    "- Reference link https://www.perplexity.ai "
   ]
  },
  {
   "cell_type": "markdown",
   "metadata": {},
   "source": [
    "### Usage of Other Applications"
   ]
  },
  {
   "cell_type": "markdown",
   "metadata": {},
   "source": [
    "- I have used youtube for learning new graphs such as Tree maps and Sunburst map."
   ]
  }
 ],
 "metadata": {
  "kernelspec": {
   "display_name": "myenv",
   "language": "python",
   "name": "python3"
  },
  "language_info": {
   "codemirror_mode": {
    "name": "ipython",
    "version": 3
   },
   "file_extension": ".py",
   "mimetype": "text/x-python",
   "name": "python",
   "nbconvert_exporter": "python",
   "pygments_lexer": "ipython3",
   "version": "3.12.2"
  }
 },
 "nbformat": 4,
 "nbformat_minor": 2
}
